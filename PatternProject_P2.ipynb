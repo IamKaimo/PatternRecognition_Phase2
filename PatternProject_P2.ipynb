{
 "cells": [
  {
   "cell_type": "markdown",
   "id": "d8fc7cf0",
   "metadata": {},
   "source": [
    "### Importing Libraries"
   ]
  },
  {
   "cell_type": "code",
   "execution_count": 7,
   "id": "2c73edd4",
   "metadata": {},
   "outputs": [],
   "source": [
    "import numpy as np\n",
    "import time\n",
    "import cv2\n",
    "import os\n",
    "import glob\n",
    "from moviepy.editor import *"
   ]
  },
  {
   "cell_type": "markdown",
   "id": "c5d1608d",
   "metadata": {},
   "source": [
    "### Load COCO Dataset"
   ]
  },
  {
   "cell_type": "code",
   "execution_count": 8,
   "id": "81afbcfb",
   "metadata": {},
   "outputs": [],
   "source": [
    "labels = open('coco.names').read().strip().split('\\n')"
   ]
  },
  {
   "cell_type": "markdown",
   "id": "d265ea69",
   "metadata": {},
   "source": [
    "### Load Neural Netowrk"
   ]
  },
  {
   "cell_type": "code",
   "execution_count": 9,
   "id": "ff1b0ef9",
   "metadata": {},
   "outputs": [],
   "source": [
    "net = cv2.dnn.readNetFromDarknet('yolov3.cfg','yolov3.weights')"
   ]
  },
  {
   "cell_type": "markdown",
   "id": "f66a5f7d",
   "metadata": {},
   "source": [
    "### Getting Layer Names and Output Layers"
   ]
  },
  {
   "cell_type": "code",
   "execution_count": 10,
   "id": "3f175e58",
   "metadata": {},
   "outputs": [
    {
     "name": "stdout",
     "output_type": "stream",
     "text": [
      "['yolo_82', 'yolo_94', 'yolo_106']\n"
     ]
    }
   ],
   "source": [
    "names = net.getLayerNames()\n",
    "outputlayers = list(net.getUnconnectedOutLayersNames())"
   ]
  },
  {
   "cell_type": "markdown",
   "id": "39b21dd3",
   "metadata": {},
   "source": [
    "### Inference"
   ]
  },
  {
   "cell_type": "code",
   "execution_count": 11,
   "id": "646c4acb",
   "metadata": {},
   "outputs": [],
   "source": [
    "def process(image):\n",
    "    boxes = []\n",
    "    confidences = []\n",
    "    classIDs = []\n",
    "    H,W = image.shape[:2]   #height and width of the image\n",
    "    blob = cv2.dnn.blobFromImage(image,1/255.0,(416,416),crop=False,swapRB=False)  #preprocessing the image\n",
    "    net.setInput(blob)   #input the image to the network\n",
    "    layers_output = net.forward(outputlayers)  #forward path\n",
    "    return img"
   ]
  }
 ],
 "metadata": {
  "kernelspec": {
   "display_name": "Python 3 (ipykernel)",
   "language": "python",
   "name": "python3"
  },
  "language_info": {
   "codemirror_mode": {
    "name": "ipython",
    "version": 3
   },
   "file_extension": ".py",
   "mimetype": "text/x-python",
   "name": "python",
   "nbconvert_exporter": "python",
   "pygments_lexer": "ipython3",
   "version": "3.9.12"
  }
 },
 "nbformat": 4,
 "nbformat_minor": 5
}
